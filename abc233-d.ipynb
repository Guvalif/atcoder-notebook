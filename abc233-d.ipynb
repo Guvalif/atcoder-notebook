{
 "metadata": {
  "language_info": {
   "codemirror_mode": {
    "name": "ipython",
    "version": 3
   },
   "file_extension": ".py",
   "mimetype": "text/x-python",
   "name": "python",
   "nbconvert_exporter": "python",
   "pygments_lexer": "ipython3",
   "version": "3.8.2-final"
  },
  "orig_nbformat": 2,
  "kernelspec": {
   "name": "python3",
   "display_name": "Python 3.8.2 32-bit",
   "metadata": {
    "interpreter": {
     "hash": "317677d39dab63364ae3d8d2b23bc1b6687c8d1fc6e0978e24ac378c27cc6804"
    }
   }
  }
 },
 "nbformat": 4,
 "nbformat_minor": 2,
 "cells": [
  {
   "source": [
    "## ABC-233 D\n",
    "\n",
    "https://atcoder.jp/contests/abc233/tasks/abc233_d"
   ],
   "cell_type": "markdown",
   "metadata": {}
  },
  {
   "source": [
    "## 考察\n",
    "\n",
    "- $N$ の制約より、$\\mathcal{O}(N \\log N)$ が計算量の上界となる\n",
    "- 一見しゃくとり法が使えそうだが、部分列の和を任意に取れるため、これだけでは計算量を削減できない\n",
    "- ここで、ある部分列の和 $S_{(l, r)}$ は、累積和の差として求められることに着目する\n",
    "\n",
    "$$\n",
    "S_{(l, r)} = \\sum_{i=l}^r A_i = \\underset{r}{\\mathrm{Acc}} \\: A_i - \\underset{l-1}{\\mathrm{Acc}} \\: A_i\n",
    "$$\n",
    "\n",
    "- これより、$l$ と $r$ に対する全探索から、$\\mathcal{O}(N^2)$ までの計算量は見えてくる\n",
    "- ここで、求めたい条件は次のように変形できる：\n",
    "\n",
    "$$\n",
    "\\begin{eqnarray}\n",
    "\\underset{r}{\\mathrm{Acc}} \\: A_i - \\underset{l-1}{\\mathrm{Acc}} \\: A_i & = & K \\nonumber \\\\\n",
    "\\underset{r}{\\mathrm{Acc}} \\: A_i & = & K + \\underset{l-1}{\\mathrm{Acc}} \\: A_i\\nonumber\n",
    "\\end{eqnarray}\n",
    "$$\n",
    "\n",
    "- すなわち、全ての $l \\leq r$ を満たす $l$ に関して $K + \\underset{l-1}{\\mathrm{Acc}} \\: A_i$ を求めて、テーブル・ルックアップを行うことで高速化できる\n",
    "- 累積和 × DP というパターンの問題と言えそう"
   ],
   "cell_type": "markdown",
   "metadata": {}
  },
  {
   "source": [
    "## 参考文献\n",
    "\n",
    "- https://atcoder.jp/contests/abc233/editorial/3163"
   ],
   "cell_type": "markdown",
   "metadata": {}
  },
  {
   "source": [
    "## 実装例"
   ],
   "cell_type": "markdown",
   "metadata": {}
  },
  {
   "cell_type": "code",
   "execution_count": null,
   "metadata": {},
   "outputs": [],
   "source": [
    "# 入力例 1\n",
    "n = 6\n",
    "k = 5\n",
    "a = [ 8, -3, 5, 7, 0, -4 ]"
   ]
  },
  {
   "cell_type": "code",
   "execution_count": null,
   "metadata": {},
   "outputs": [],
   "source": [
    "# 入力例 2\n",
    "n = 2\n",
    "k = -1000000000000000\n",
    "a = [ 1000000000, -1000000000 ]"
   ]
  },
  {
   "cell_type": "code",
   "execution_count": null,
   "metadata": {},
   "outputs": [
    {
     "output_type": "stream",
     "name": "stdout",
     "text": [
      "3\n"
     ]
    }
   ],
   "source": [
    "from itertools import accumulate\n",
    "\n",
    "if 'get_ipython' not in globals():\n",
    "    n, k = map(int, input().split())\n",
    "    a = map(int, input().split())\n",
    "\n",
    "# 累積和の 0 番目を 0 として定義することで、l - 1 が 0 のケースに対応する\n",
    "acc = [ 0, *accumulate(a) ]\n",
    "\n",
    "equals = {}\n",
    "count = 0\n",
    "\n",
    "for r in range(1, n + 1):\n",
    "    # 現時点での r を l とすることで、順次 l <= r の場合のみ、条件を満たす部分列をカウントできる\n",
    "    key = k + acc[r - 1]\n",
    "    equals[key] = equals.get(key, 0) + 1\n",
    "\n",
    "    # 累積和の r 番目に対して、現時点で条件を満たす部分列の個数を調べ加算する\n",
    "    count += equals.get(acc[r], 0)\n",
    "\n",
    "print(count)"
   ]
  },
  {
   "cell_type": "code",
   "execution_count": null,
   "metadata": {},
   "outputs": [],
   "source": []
  }
 ]
}