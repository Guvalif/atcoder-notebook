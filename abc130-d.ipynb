{
 "metadata": {
  "language_info": {
   "codemirror_mode": {
    "name": "ipython",
    "version": 3
   },
   "file_extension": ".py",
   "mimetype": "text/x-python",
   "name": "python",
   "nbconvert_exporter": "python",
   "pygments_lexer": "ipython3",
   "version": "3.8.2-final"
  },
  "orig_nbformat": 2,
  "kernelspec": {
   "name": "python3",
   "display_name": "Python 3.8.2 32-bit",
   "metadata": {
    "interpreter": {
     "hash": "317677d39dab63364ae3d8d2b23bc1b6687c8d1fc6e0978e24ac378c27cc6804"
    }
   }
  }
 },
 "nbformat": 4,
 "nbformat_minor": 2,
 "cells": [
  {
   "source": [
    "## ABC130-D\n",
    "\n",
    "https://atcoder.jp/contests/abc130/tasks/abc130_d"
   ],
   "cell_type": "markdown",
   "metadata": {}
  },
  {
   "source": [
    "## 考察\n",
    "\n",
    "- 部分列の数え上げのため、しゃくとり法を用いればよい\n",
    "- 部分列の総和が $K$ 以上という条件のため、ある部分列 $a'$ が条件を満たせば、それより大きい部分列 $a''$ も条件を満たす\n",
    "- 部分列 $x$ に対して、右側開区間を $r(x)$ と表すことにする\n",
    "- 部分列 $a'$ の左側閉区間を固定した時、対応する $a''$ の個数は $n - r(a')$ と求まる\n",
    "- よって、左側閉区間をずらしながら $n - r(a') + 1$ を足し合わせることで、答えを得る  \n",
    "  ($+1$ が必要なのは部分列 $a'$ 自体も考慮するため)"
   ],
   "cell_type": "markdown",
   "metadata": {}
  },
  {
   "source": [
    "## 参考文献\n",
    "\n",
    "- https://qiita.com/drken/items/ecd1a472d3a0e7db8dce"
   ],
   "cell_type": "markdown",
   "metadata": {}
  },
  {
   "source": [
    "## 実装例"
   ],
   "cell_type": "markdown",
   "metadata": {}
  },
  {
   "cell_type": "code",
   "execution_count": 67,
   "metadata": {},
   "outputs": [],
   "source": [
    "# 入力例 1\n",
    "n = 4\n",
    "k = 10\n",
    "a = [ 6, 1, 2, 7 ]"
   ]
  },
  {
   "cell_type": "code",
   "execution_count": 80,
   "metadata": {},
   "outputs": [],
   "source": [
    "# 入力例 2\n",
    "n = 3\n",
    "k = 5\n",
    "a = [ 3, 3, 3 ]"
   ]
  },
  {
   "cell_type": "code",
   "execution_count": 86,
   "metadata": {},
   "outputs": [],
   "source": [
    "# 入力例 3\n",
    "n = 10\n",
    "k = 53462\n",
    "a = [ 103, 35322, 232, 342, 21099, 90000, 18843, 9010, 35221, 19352 ]"
   ]
  },
  {
   "cell_type": "code",
   "execution_count": 88,
   "metadata": {},
   "outputs": [
    {
     "output_type": "stream",
     "name": "stdout",
     "text": [
      "36\n"
     ]
    }
   ],
   "source": [
    "if 'get_ipython' not in globals():\n",
    "    n, k = map(int, input().split())\n",
    "    a = list(map(int, input().split()))\n",
    "\n",
    "right = 0\n",
    "s = 0\n",
    "cnt = 0\n",
    "\n",
    "for left in range(n):\n",
    "    # 総和が K 以上になるまで、ずらせる範囲で右端をずらす\n",
    "    while (right < n):\n",
    "        if s >= k:\n",
    "            break\n",
    "\n",
    "        s += a[right]\n",
    "        right += 1\n",
    "\n",
    "    # 左端の状態ごとに総和が K 以上か確認し、より大きな部分列の個数も含めて足し合わせる\n",
    "    if s >= k:\n",
    "        cnt += (n - right + 1)\n",
    "\n",
    "    if right == left:\n",
    "        right += 1\n",
    "\n",
    "    else:\n",
    "        s -= a[left]\n",
    "\n",
    "print(cnt)"
   ]
  },
  {
   "cell_type": "code",
   "execution_count": null,
   "metadata": {},
   "outputs": [],
   "source": []
  }
 ]
}