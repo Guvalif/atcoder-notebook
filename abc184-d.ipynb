{
 "metadata": {
  "language_info": {
   "codemirror_mode": {
    "name": "ipython",
    "version": 3
   },
   "file_extension": ".py",
   "mimetype": "text/x-python",
   "name": "python",
   "nbconvert_exporter": "python",
   "pygments_lexer": "ipython3",
   "version": "3.8.2-final"
  },
  "orig_nbformat": 2,
  "kernelspec": {
   "name": "python3",
   "display_name": "Python 3.8.2 32-bit",
   "metadata": {
    "interpreter": {
     "hash": "317677d39dab63364ae3d8d2b23bc1b6687c8d1fc6e0978e24ac378c27cc6804"
    }
   }
  }
 },
 "nbformat": 4,
 "nbformat_minor": 2,
 "cells": [
  {
   "source": [
    "## ABC184-D\n",
    "\n",
    "https://atcoder.jp/contests/abc184/tasks/abc184_d"
   ],
   "cell_type": "markdown",
   "metadata": {}
  },
  {
   "source": [
    "## 考察\n",
    "\n",
    "- コイン $X$ を引く確率 $P_X$ は次の通り：\n",
    "\n",
    "$$\n",
    "\\begin{eqnarray}\n",
    "P_A & = & \\frac{A}{A + B + C} \\nonumber \\\\\n",
    "P_B & = & \\frac{B}{A + B + C} \\nonumber \\\\\n",
    "P_C & = & \\frac{C}{A + B + C} \\nonumber\n",
    "\\end{eqnarray}\n",
    "$$\n",
    "\n",
    "- $A$ , $B$ , $C$ の少なくとも $1$ つが $100$ である場合、操作回数の期待値は $0$\n",
    "- これより、操作回数の期待値が $0$ の地点からバックトラックすることで、ある状態からの操作回数の期待値がそれぞれ求まる\n",
    "- バックトラックをするにあたって、状態 $(A, B, C)$ は状態 $(A + 1, B, C)$ , $(A, B + 1, C)$ , $(A, B, C + 1)$ のいずれかからしか遷移されない\n",
    "- また、各状態からの遷移確率は次の通り：\n",
    "\n",
    "$$\n",
    "\\begin{eqnarray}\n",
    "(A + 1, B, C) & \\Rightarrow & P_A \\nonumber \\\\\n",
    "(A, B + 1, C) & \\Rightarrow & P_B \\nonumber \\\\\n",
    "(A, B, C + 1) & \\Rightarrow & P_C \\nonumber\n",
    "\\end{eqnarray}\n",
    "$$\n",
    "\n",
    "- よって、状態 $(A, B, C)$ からの操作回数の期待値は次の通り：\n",
    "\n",
    "$$\n",
    "\\begin{eqnarray}\n",
    "E_{(A, B, C)} & = & P_{A} \\times (E_{(A + 1, B, C)} + 1) \\nonumber \\\\\n",
    "              & + & P_{B} \\times (E_{(A, B + 1, C)} + 1) \\nonumber \\\\\n",
    "              & + & P_{C} \\times (E_{(A, B, C + 1)} + 1) \\nonumber\n",
    "\\end{eqnarray}\n",
    "$$\n",
    "\n",
    "- 漸化式をアルゴリズム的に求めることになるため、DP を用いればよい"
   ],
   "cell_type": "markdown",
   "metadata": {}
  },
  {
   "source": [
    "## 参考文献\n",
    "\n",
    "- https://atcoder.jp/contests/abc184/editorial/152\n",
    "- https://note.com/ktsukuda/n/n1bf96eea2f0c"
   ],
   "cell_type": "markdown",
   "metadata": {}
  },
  {
   "source": [
    "## 実装例"
   ],
   "cell_type": "markdown",
   "metadata": {}
  },
  {
   "cell_type": "code",
   "execution_count": null,
   "metadata": {},
   "outputs": [],
   "source": [
    "# 入力例 1\n",
    "a = 99\n",
    "b = 99\n",
    "c = 99"
   ]
  },
  {
   "cell_type": "code",
   "execution_count": null,
   "metadata": {},
   "outputs": [],
   "source": [
    "# 入力例 2\n",
    "a = 98\n",
    "b = 99\n",
    "c = 99"
   ]
  },
  {
   "cell_type": "code",
   "execution_count": null,
   "metadata": {},
   "outputs": [],
   "source": [
    "# 入力例 3\n",
    "a = 0\n",
    "b = 0\n",
    "c = 1"
   ]
  },
  {
   "cell_type": "code",
   "execution_count": null,
   "metadata": {},
   "outputs": [],
   "source": [
    "# 入力例 4\n",
    "a = 31\n",
    "b = 41\n",
    "c = 59"
   ]
  },
  {
   "cell_type": "code",
   "execution_count": null,
   "metadata": {},
   "outputs": [
    {
     "output_type": "stream",
     "name": "stdout",
     "text": [
      "91.83500820215889\n"
     ]
    }
   ],
   "source": [
    "if 'get_ipython' not in globals():\n",
    "    a, b, c = map(int, input().split())\n",
    "\n",
    "# 状態 (0, 0, 0) から (100, 100, 100) までの全てのパターンを網羅，各期待値の初期値は 0\n",
    "dp = [[[0] * 101 for _ in range(101)] for _ in range(101)]\n",
    "\n",
    "# x ::= A，y ::= B，z ::= C として、枚数を 99 から 0 までバックトラックする\n",
    "for x in range(99, -1, -1):\n",
    "    for y in range(99, -1, -1):\n",
    "        for z in range(99, -1, -1):\n",
    "            # 袋の中にコインが存在しない場合は期待値が 0 のため、漸化式を計算しない\n",
    "            if x == 0 and y == 0 and z == 0:\n",
    "                continue\n",
    "\n",
    "            dp[x][y][z] += (dp[x + 1][y][z] + 1) * x / (x + y + z)\n",
    "            dp[x][y][z] += (dp[x][y + 1][z] + 1) * y / (x + y + z)\n",
    "            dp[x][y][z] += (dp[x][y][z + 1] + 1) * z / (x + y + z)\n",
    "\n",
    "print(dp[a][b][c])"
   ]
  },
  {
   "cell_type": "code",
   "execution_count": null,
   "metadata": {},
   "outputs": [],
   "source": []
  }
 ]
}