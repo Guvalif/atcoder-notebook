{
 "metadata": {
  "language_info": {
   "codemirror_mode": {
    "name": "ipython",
    "version": 3
   },
   "file_extension": ".py",
   "mimetype": "text/x-python",
   "name": "python",
   "nbconvert_exporter": "python",
   "pygments_lexer": "ipython3",
   "version": "3.8.2-final"
  },
  "orig_nbformat": 2,
  "kernelspec": {
   "name": "python3",
   "display_name": "Python 3.8.2 32-bit",
   "metadata": {
    "interpreter": {
     "hash": "317677d39dab63364ae3d8d2b23bc1b6687c8d1fc6e0978e24ac378c27cc6804"
    }
   }
  }
 },
 "nbformat": 4,
 "nbformat_minor": 2,
 "cells": [
  {
   "source": [
    "## ABC149-D\n",
    "\n",
    "https://atcoder.jp/contests/abc149/tasks/abc149_d"
   ],
   "cell_type": "markdown",
   "metadata": {}
  },
  {
   "source": [
    "## 考察\n",
    "\n",
    "- まず愚直に、全ての局面で勝てるジャンケンの列を考える\n",
    "- 次に、$K$ 飛ばしで部分列を考え、その中で連続するジャンケンを考える\n",
    "- 連続するジャンケンの長さ $l^{*}$ に対して：\n",
    "    - $l^{*}$ が偶数であれば $l^{*} / 2$ 回が最大勝利可能数\n",
    "    - $l^{*}$ が奇数であれば $(l^{*} - 1) / 2 + 1$ 回が最大勝利可能数\n",
    "- 結局、各部分列に対して直前のジャンケンを考慮し、連続する場合は勝ち，負け，... を交互に繰り返すようにすれば、スコアが最大となる"
   ],
   "cell_type": "markdown",
   "metadata": {}
  },
  {
   "source": [
    "## 実装例"
   ],
   "cell_type": "markdown",
   "metadata": {}
  },
  {
   "cell_type": "code",
   "metadata": {},
   "outputs": [],
   "source": [
    "# 入力例 1\n",
    "n, k = 5, 2\n",
    "r, s, p = 8, 7, 6\n",
    "t = 'rsrpr'"
   ]
  },
  {
   "cell_type": "code",
   "metadata": {},
   "outputs": [],
   "source": [
    "# 入力例 2\n",
    "n, k = 7, 1\n",
    "r, s, p = 100, 10, 1\n",
    "t = 'ssssppr'"
   ]
  },
  {
   "cell_type": "code",
   "metadata": {},
   "outputs": [],
   "source": [
    "# 入力例 3\n",
    "n, k = 30, 5\n",
    "r, s, p = 325, 234, 123\n",
    "t = 'rspsspspsrpspsppprpsprpssprpsr'"
   ]
  },
  {
   "cell_type": "code",
   "metadata": {},
   "outputs": [
    {
     "output_type": "stream",
     "name": "stdout",
     "text": [
      "4996\n"
     ]
    }
   ],
   "source": [
    "if 'get_ipython' not in globals():\n",
    "    n, k = map(int, input().split())\n",
    "    r, s, p = map(int, input().split())\n",
    "    t = input()\n",
    "\n",
    "win_table = {\n",
    "    'r': 'p',\n",
    "    's': 'r',\n",
    "    'p': 's',\n",
    "}\n",
    "\n",
    "score_table = {\n",
    "    'r': r,\n",
    "    's': s,\n",
    "    'p': p,\n",
    "}\n",
    "\n",
    "wins = ''.join(map(lambda x: win_table[x], t))\n",
    "\n",
    "def step_wins(i):\n",
    "    while i < len(wins):\n",
    "        yield wins[i]\n",
    "        i += k\n",
    "\n",
    "score = 0\n",
    "\n",
    "for i in range(k):\n",
    "    before_x = None\n",
    "\n",
    "    for x in step_wins(i):\n",
    "        score += (score_table[x] if x != before_x else 0)\n",
    "        before_x = x if x != before_x else None\n",
    "\n",
    "print(score)"
   ]
  },
  {
   "cell_type": "code",
   "execution_count": null,
   "metadata": {},
   "outputs": [],
   "source": []
  }
 ]
}