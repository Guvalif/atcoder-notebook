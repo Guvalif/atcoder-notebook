{
 "metadata": {
  "language_info": {
   "codemirror_mode": {
    "name": "ipython",
    "version": 3
   },
   "file_extension": ".py",
   "mimetype": "text/x-python",
   "name": "python",
   "nbconvert_exporter": "python",
   "pygments_lexer": "ipython3",
   "version": "3.8.2"
  },
  "orig_nbformat": 2,
  "kernelspec": {
   "name": "python3",
   "display_name": "Python 3.8.2 32-bit",
   "metadata": {
    "interpreter": {
     "hash": "54bc55872fd0ee80faa03e9de44b3750c073df5a0d1136960eda13757ba1cded"
    }
   }
  }
 },
 "nbformat": 4,
 "nbformat_minor": 2,
 "cells": [
  {
   "source": [
    "## ABC162-D\n",
    "\n",
    "https://atcoder.jp/contests/abc162/tasks/abc162_d"
   ],
   "cell_type": "markdown",
   "metadata": {}
  },
  {
   "source": [
    "## 考察\n",
    "\n",
    "- $N$ の制約より、$\\mathcal{O}(N^2)$ が計算量の上界となる\n",
    "- $S_i$, $S_j$, $S_k$ が異なる場合の数は、`R`, `G`, `B` の個数により求まる\n",
    "- また、背反な条件 $j - i = k - j$ を満たす組を考え、場合の数から引くことを考える\n",
    "- $i$, $j$ に対して $k = j + (j - i) = 2 j - i$ と自明に求まる\n",
    "- よって、2 パラメータに対する全探索を行えばよい"
   ],
   "cell_type": "markdown",
   "metadata": {}
  },
  {
   "source": [
    "## 参考文献\n",
    "\n",
    "- https://drken1215.hatenablog.com/entry/2020/04/12/225900"
   ],
   "cell_type": "markdown",
   "metadata": {}
  },
  {
   "source": [
    "## 実装例"
   ],
   "cell_type": "markdown",
   "metadata": {}
  },
  {
   "cell_type": "code",
   "metadata": {},
   "outputs": [],
   "source": [
    "# 入力例 1\n",
    "n = 4\n",
    "s = 'RRGB'"
   ]
  },
  {
   "cell_type": "code",
   "metadata": {},
   "outputs": [],
   "source": [
    "# 入力例 2\n",
    "n = 39\n",
    "s = 'RBRBGRBGGBBRRGBBRRRBGGBRBGBRBGBRBBBGBBB'"
   ]
  },
  {
   "cell_type": "code",
   "metadata": {},
   "outputs": [
    {
     "output_type": "stream",
     "name": "stdout",
     "text": [
      "1800\n"
     ]
    }
   ],
   "source": [
    "if 'get_ipython' not in globals():\n",
    "    n = int(input())\n",
    "    s = input()\n",
    "\n",
    "c_full = s.count('R') * s.count('G') * s.count('B')\n",
    "c_op = 0\n",
    "\n",
    "for i in range(n - 2):\n",
    "    for j in range(i + 1, n - 1):\n",
    "        k = 2 * j - i\n",
    "\n",
    "        if k > (n - 1):\n",
    "            break\n",
    "\n",
    "        if s[i] != s[j] and s[j] != s[k] and s[k] != s[i]:\n",
    "            c_op += 1\n",
    "\n",
    "print(c_full - c_op)"
   ]
  },
  {
   "cell_type": "code",
   "metadata": {},
   "outputs": [],
   "source": []
  }
 ]
}