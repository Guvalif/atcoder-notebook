{
 "metadata": {
  "language_info": {
   "codemirror_mode": {
    "name": "ipython",
    "version": 3
   },
   "file_extension": ".py",
   "mimetype": "text/x-python",
   "name": "python",
   "nbconvert_exporter": "python",
   "pygments_lexer": "ipython3",
   "version": "3.8.2-final"
  },
  "orig_nbformat": 2,
  "kernelspec": {
   "name": "python3",
   "display_name": "Python 3.8.2 32-bit",
   "metadata": {
    "interpreter": {
     "hash": "317677d39dab63364ae3d8d2b23bc1b6687c8d1fc6e0978e24ac378c27cc6804"
    }
   }
  }
 },
 "nbformat": 4,
 "nbformat_minor": 2,
 "cells": [
  {
   "source": [
    "## ABC143-D\n",
    "\n",
    "https://atcoder.jp/contests/abc143/tasks/abc143_d"
   ],
   "cell_type": "markdown",
   "metadata": {}
  },
  {
   "source": [
    "## 考察\n",
    "\n",
    "- $N$ の制約より、$\\mathcal{O}(N^2 \\log N)$ が計算量の上界となる\n",
    "- 三角形の性質と制約より、ある 3 辺 $a$ , $b$ , $c$ に対して次の不等式が成り立つ：\n",
    "\n",
    "$$\n",
    "\\left.\n",
    "\\begin{eqnarray}\n",
    "a & > & c - b \\nonumber \\\\\n",
    "c & < & a + b \\nonumber\n",
    "\\end{eqnarray}\n",
    "\\right\\} \\quad s.t. \\quad a \\leqq b \\leqq c \\nonumber\n",
    "$$\n",
    "\n",
    "- $L_i$ を事前にソートすることで、上記の条件を満たす辺 (の範囲) を、二分探索で効率よく求めることができる\n",
    "- また、全ての辺の組み合わせ列挙は $\\mathcal{O}(N^3)$ であるが、$c$ に関する不等式制約を考えることで、2 辺の組み合わせ列挙でよくなる"
   ],
   "cell_type": "markdown",
   "metadata": {}
  },
  {
   "source": [
    "## 参考文献\n",
    "\n",
    "- https://qiita.com/ta7uw/items/d6d8f0ddb215c3677cd3"
   ],
   "cell_type": "markdown",
   "metadata": {}
  },
  {
   "source": [
    "## 実装例"
   ],
   "cell_type": "markdown",
   "metadata": {}
  },
  {
   "cell_type": "code",
   "execution_count": null,
   "metadata": {},
   "outputs": [],
   "source": [
    "# 入力例 1\n",
    "n = 4\n",
    "l = [ 3, 4, 2, 1 ]"
   ]
  },
  {
   "cell_type": "code",
   "execution_count": null,
   "metadata": {},
   "outputs": [],
   "source": [
    "# 入力例 2\n",
    "n = 3\n",
    "l = [ 1, 1000, 1 ]"
   ]
  },
  {
   "cell_type": "code",
   "execution_count": null,
   "metadata": {},
   "outputs": [],
   "source": [
    "# 入力例 3\n",
    "n = 7\n",
    "l = [ 218, 786, 704, 233, 645, 728, 389 ]"
   ]
  },
  {
   "cell_type": "code",
   "execution_count": null,
   "metadata": {},
   "outputs": [
    {
     "output_type": "stream",
     "name": "stdout",
     "text": [
      "1\n"
     ]
    }
   ],
   "source": [
    "from bisect import bisect_left\n",
    "\n",
    "if 'get_ipython' not in globals():\n",
    "    n = int(input())\n",
    "    l = map(int, input().split())\n",
    "\n",
    "def count_c(left, c_upper_bound):\n",
    "    # c < a + b より、a + b を上開区間として l を二分探索\n",
    "    right = bisect_left(l, c_upper_bound)\n",
    "\n",
    "    # 区間の長さを、交差を考慮して計算\n",
    "    return (right - left - 1) if right > left else 0\n",
    "\n",
    "l = sorted(l)\n",
    "\n",
    "count = 0\n",
    "\n",
    "for i in range(n):\n",
    "    for j in range(i + 1, n):\n",
    "        count += count_c(j, l[i] + l[j])\n",
    "\n",
    "print(count)"
   ]
  },
  {
   "cell_type": "code",
   "execution_count": null,
   "metadata": {},
   "outputs": [],
   "source": []
  }
 ]
}