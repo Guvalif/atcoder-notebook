{
 "metadata": {
  "language_info": {
   "codemirror_mode": {
    "name": "ipython",
    "version": 3
   },
   "file_extension": ".py",
   "mimetype": "text/x-python",
   "name": "python",
   "nbconvert_exporter": "python",
   "pygments_lexer": "ipython3",
   "version": "3.8.2-final"
  },
  "orig_nbformat": 2,
  "kernelspec": {
   "name": "python3",
   "display_name": "Python 3.8.2 32-bit",
   "metadata": {
    "interpreter": {
     "hash": "317677d39dab63364ae3d8d2b23bc1b6687c8d1fc6e0978e24ac378c27cc6804"
    }
   }
  }
 },
 "nbformat": 4,
 "nbformat_minor": 2,
 "cells": [
  {
   "source": [
    "## ABC186-D\n",
    "\n",
    "https://atcoder.jp/contests/abc186/tasks/abc186_d"
   ],
   "cell_type": "markdown",
   "metadata": {}
  },
  {
   "source": [
    "## 考察\n",
    "\n",
    "- 任意の $i$ , $j$ について差の絶対値を求めるため、事前に $A_i$ をソートしても問題は無い\n",
    "- $i < j$ なる制約から、昇順にソートされた $A_i$ に対して問題を考えることで、絶対値を外せる：\n",
    "\n",
    "$$\n",
    "\\begin{eqnarray}\n",
    "{\\displaystyle \\sum^{N - 1}_{i = 1} \\sum^N_{j = i + 1}} |A_i - A_j| & = & {\\displaystyle \\sum^{N - 1}_{i = 1} \\sum^N_{j = i + 1}} (A_j - A_i) \\nonumber \\\\\n",
    "& = & {\\displaystyle \\sum^{N - 1}_{i = 1} \\sum^N_{j = i + 1}} A_j - {\\displaystyle \\sum^{N - 1}_{i = 1} \\sum^N_{j = i + 1}} A_i\\nonumber \\\\\n",
    "& = & {\\displaystyle \\sum^{N - 1}_{i = 1} \\sum^N_{j = i + 1}} A_j - {\\displaystyle \\sum^{N - 1}_{i = 1}} (N - i) A_i \\nonumber\n",
    "\\end{eqnarray}\n",
    "$$\n",
    "\n",
    "- 第 2 項の総和は $\\mathcal{O}(N)$ で求まり、第 1 項の総和も累積和を用いることで $\\mathcal{O}(N)$ で求まる"
   ],
   "cell_type": "markdown",
   "metadata": {}
  },
  {
   "source": [
    "## 参考文献\n",
    "\n",
    "- https://atcoder.jp/contests/abc186/editorial/402"
   ],
   "cell_type": "markdown",
   "metadata": {}
  },
  {
   "source": [
    "## 実装例"
   ],
   "cell_type": "markdown",
   "metadata": {}
  },
  {
   "cell_type": "code",
   "execution_count": 15,
   "metadata": {},
   "outputs": [],
   "source": [
    "# 入力例 1\n",
    "n = 3\n",
    "a = [ 5, 1, 2 ]"
   ]
  },
  {
   "cell_type": "code",
   "execution_count": 17,
   "metadata": {},
   "outputs": [],
   "source": [
    "# 入力例 2\n",
    "n = 5\n",
    "a = [ 31, 41, 59, 26, 53 ]"
   ]
  },
  {
   "cell_type": "code",
   "execution_count": 18,
   "metadata": {},
   "outputs": [
    {
     "output_type": "stream",
     "name": "stdout",
     "text": [
      "176\n"
     ]
    }
   ],
   "source": [
    "from itertools import accumulate\n",
    "\n",
    "if 'get_ipython' not in globals():\n",
    "    n = int(input())\n",
    "    a = map(int, input().split())\n",
    "\n",
    "a = sorted(a)\n",
    "\n",
    "s1 = sum(accumulate(reversed(a[1:])))\n",
    "s2 = sum((n - i - 1) * ai for i, ai in enumerate(a[:-1]))\n",
    "\n",
    "print(s1 - s2)"
   ]
  },
  {
   "cell_type": "code",
   "execution_count": null,
   "metadata": {},
   "outputs": [],
   "source": []
  }
 ]
}